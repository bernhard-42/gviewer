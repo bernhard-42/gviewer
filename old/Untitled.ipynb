{
 "cells": [
  {
   "cell_type": "code",
   "execution_count": 7,
   "id": "9f16f270-778e-4a7f-8efc-8c9b1dda93bc",
   "metadata": {},
   "outputs": [
    {
     "name": "stdout",
     "output_type": "stream",
     "text": [
      "\u001b[32m2025-05-09 20:54:56.391\u001b[0m | \u001b[1mINFO    \u001b[0m | \u001b[36mgdsfactory.pdk\u001b[0m:\u001b[36mregister_cells_yaml\u001b[0m:\u001b[36m283\u001b[0m - \u001b[1mRegistered cell 'sample'\u001b[0m\n"
     ]
    }
   ],
   "source": [
    "from to_json import to_json\n",
    "from typing import cast\n",
    "\n",
    "from gdsfactory.pdk import get_layer_stack\n",
    "from sky130 import LAYER_STACK\n",
    "\n",
    "from kfactory import LayerEnum\n",
    "\n",
    "from gdsfactory.component import Component\n",
    "from gdsfactory.technology import DerivedLayer, LayerStack, LayerViews, LogicalLayer\n",
    "from gdsfactory.typings import LayerSpecs\n",
    "from gdsfactory.pdk import (\n",
    "    get_active_pdk,\n",
    "    get_layer,\n",
    "    get_layer_stack,\n",
    "    get_layer_views,\n",
    ")\n",
    "import gdsfactory as gf"
   ]
  },
  {
   "cell_type": "code",
   "execution_count": 8,
   "id": "0ccd5603-8b01-4f7f-a1d1-a7c69588042c",
   "metadata": {},
   "outputs": [],
   "source": [
    "from polygon import group_by_length, group_congruent_polygons, plot_polygons, reconstruct_colored\n",
    "from to_poly import to_poly"
   ]
  },
  {
   "cell_type": "code",
   "execution_count": null,
   "id": "3fb0425c-2680-4fff-af09-bc70d0b7e65e",
   "metadata": {},
   "outputs": [],
   "source": [
    "c = gf.read.import_gds(\"example_sky130.gds\")\n",
    "\n",
    "layer_polygons = to_poly(c, layer_stack=LAYER_STACK)"
   ]
  },
  {
   "cell_type": "code",
   "execution_count": null,
   "id": "52bdfff1-5947-48dd-84a2-4c01aadf031a",
   "metadata": {},
   "outputs": [],
   "source": [
    "layer_polygons.keys()"
   ]
  },
  {
   "cell_type": "code",
   "execution_count": null,
   "id": "fd8a6bf9-a8ff-480a-8150-ff29a359248c",
   "metadata": {},
   "outputs": [],
   "source": [
    "polygons = layer_polygons['polydrawing_m']"
   ]
  },
  {
   "cell_type": "code",
   "execution_count": null,
   "id": "d98600cb-2a9e-4d81-80d3-e17adf98c131",
   "metadata": {},
   "outputs": [],
   "source": [
    "groups = group_by_length(polygons)"
   ]
  },
  {
   "cell_type": "code",
   "execution_count": null,
   "id": "ca61b7bf-1dbb-42c9-bfd9-920a5c09a0ee",
   "metadata": {},
   "outputs": [],
   "source": [
    "groups.keys()"
   ]
  },
  {
   "cell_type": "code",
   "execution_count": null,
   "id": "e4d1dd05-c471-49d6-92a0-53cc55efab80",
   "metadata": {},
   "outputs": [],
   "source": [
    "plot_polygons([(p, \"rgba(48,48,48,1.0)\") for p in polygons])"
   ]
  },
  {
   "cell_type": "code",
   "execution_count": null,
   "id": "74dc8b52-233e-4987-ae04-a3647420e3d7",
   "metadata": {},
   "outputs": [],
   "source": [
    "groups2 = group_congruent_polygons(groups[8])"
   ]
  },
  {
   "cell_type": "code",
   "execution_count": null,
   "id": "05b81d97-f814-462f-b2cf-3d7314294917",
   "metadata": {},
   "outputs": [],
   "source": [
    "groups2"
   ]
  },
  {
   "cell_type": "code",
   "execution_count": null,
   "id": "877e2b6b-00da-4aa6-9480-1689e94b7f86",
   "metadata": {},
   "outputs": [],
   "source": [
    "plot_polygons(reconstruct_colored(groups2))"
   ]
  },
  {
   "cell_type": "code",
   "execution_count": null,
   "id": "f91170cc-ed90-470d-8e00-417e0438b48f",
   "metadata": {},
   "outputs": [],
   "source": [
    "for g in groups.values():\n",
    "    plot_polygons([(p, \"rgba(48,48,48,1.0)\") for p in g])\n",
    "    groups2 = group_congruent_polygons(g)\n",
    "    result = reconstruct_colored(groups2)\n",
    "    plot_polygons(result)"
   ]
  },
  {
   "cell_type": "code",
   "execution_count": null,
   "id": "31b95a0d-988c-453e-85a9-97dec7570f8e",
   "metadata": {},
   "outputs": [],
   "source": []
  },
  {
   "cell_type": "code",
   "execution_count": null,
   "id": "209cc23f-96fe-4735-a283-1dbe32c948bd",
   "metadata": {},
   "outputs": [],
   "source": []
  },
  {
   "cell_type": "markdown",
   "id": "78c05c5d-a8fd-44fa-8ea9-cbe957a5fad8",
   "metadata": {},
   "source": [
    "# SCRATCH"
   ]
  },
  {
   "cell_type": "code",
   "execution_count": null,
   "id": "a981ccda-4b39-43fe-8a77-2343157b3dfb",
   "metadata": {},
   "outputs": [],
   "source": []
  },
  {
   "cell_type": "code",
   "execution_count": null,
   "id": "918b1f4b-12c1-4214-9618-8ded7e829278",
   "metadata": {},
   "outputs": [],
   "source": []
  },
  {
   "cell_type": "code",
   "execution_count": null,
   "id": "3d8128b6-88b4-4ed2-bee4-ff0417aa1e25",
   "metadata": {},
   "outputs": [],
   "source": []
  },
  {
   "cell_type": "code",
   "execution_count": null,
   "id": "4f393dd7-87c6-4390-bf67-8e77bc1b0267",
   "metadata": {},
   "outputs": [],
   "source": []
  },
  {
   "cell_type": "code",
   "execution_count": null,
   "id": "1e09c63f-eee1-4374-b6c3-61a12a7a8a1c",
   "metadata": {},
   "outputs": [],
   "source": []
  },
  {
   "cell_type": "code",
   "execution_count": null,
   "id": "44262c9b-d3c2-4089-9a9e-632ffe7bcd64",
   "metadata": {},
   "outputs": [],
   "source": []
  },
  {
   "cell_type": "code",
   "execution_count": null,
   "id": "c46c7ff6-da4a-4d22-8ed4-44455b8e09e1",
   "metadata": {},
   "outputs": [],
   "source": []
  },
  {
   "cell_type": "code",
   "execution_count": null,
   "id": "b5639187-e34e-4d64-8947-adfa9f39c5c6",
   "metadata": {},
   "outputs": [],
   "source": []
  },
  {
   "cell_type": "code",
   "execution_count": null,
   "id": "1c066e2c-59c4-46a7-b353-e1eb4fc9c222",
   "metadata": {},
   "outputs": [],
   "source": [
    "def to_poly(\n",
    "    component: Component,\n",
    "    layer_views: LayerViews | None = None,\n",
    "    layer_stack: LayerStack | None = None,\n",
    "    exclude_layers: LayerSpecs | None = None,\n",
    "    return_json: bool = True,\n",
    "):\n",
    "    \"\"\"Return optimzed json.\n",
    "\n",
    "    Args:\n",
    "        component: to extrude in 3D.\n",
    "        layer_views: layer colors from Klayout Layer Properties file.\n",
    "            Defaults to active PDK.layer_views.\n",
    "        layer_stack: contains thickness and zmin for each layer.\n",
    "            Defaults to active PDK.layer_stack.\n",
    "        exclude_layers: list of layer index to exclude.\n",
    "\n",
    "    \"\"\"\n",
    "\n",
    "    layer_views = layer_views or get_layer_views()\n",
    "    layer_stack = layer_stack or get_layer_stack()\n",
    "\n",
    "    exclude_layers = exclude_layers or ()\n",
    "    exclude_layers = [get_layer(layer) for layer in exclude_layers]\n",
    "\n",
    "    component_with_booleans = layer_stack.get_component_with_derived_layers(component)\n",
    "    polygons_per_layer = component_with_booleans.get_polygons_points(merge=True)\n",
    "    has_polygons = False\n",
    "\n",
    "    top_name = \"GDS\"\n",
    "\n",
    "    polygons = {}\n",
    "    \n",
    "    for level in layer_stack.layers.values():\n",
    "        layer = level.layer\n",
    "\n",
    "        if isinstance(layer, LogicalLayer):\n",
    "            assert isinstance(layer.layer, tuple | LayerEnum)\n",
    "            layer_tuple = cast(tuple[int, int], tuple(layer.layer))\n",
    "        elif isinstance(layer, DerivedLayer):\n",
    "            assert level.derived_layer is not None\n",
    "            assert isinstance(level.derived_layer.layer, tuple | LayerEnum)\n",
    "            layer_tuple = cast(tuple[int, int], tuple(level.derived_layer.layer))\n",
    "        else:\n",
    "            raise ValueError(f\"Layer {layer!r} is not a DerivedLayer or LogicalLayer\")\n",
    "\n",
    "        layer_index = int(get_layer(layer_tuple))\n",
    "\n",
    "        if layer_index in exclude_layers:\n",
    "            continue\n",
    "\n",
    "        if layer_index not in polygons_per_layer:\n",
    "            continue\n",
    "\n",
    "        zmin = level.zmin\n",
    "        height = level.thickness\n",
    "        layer_view = layer_views.get_from_tuple(layer_tuple)\n",
    "\n",
    "        assert layer_view.fill_color is not None\n",
    "        if zmin is not None and layer_view.visible:\n",
    "            has_polygons = True\n",
    "            polygons[layer_view.name] = polygons_per_layer[layer_index]\n",
    "\n",
    "    if not has_polygons:\n",
    "        raise ValueError(\n",
    "            f\"{component.name!r} does not have polygons defined in the \"\n",
    "            f\"layer_stack or layer_views for the active Pdk {get_active_pdk().name!r}\"\n",
    "        )\n",
    "\n",
    "    return polygons\n"
   ]
  },
  {
   "cell_type": "code",
   "execution_count": null,
   "id": "7908b172-ac64-4920-a800-5133257b0d28",
   "metadata": {},
   "outputs": [],
   "source": [
    "import numpy as np\n",
    "import hashlib\n",
    "from numba import njit\n",
    "from collections import defaultdict\n",
    "import plotly.graph_objects as go\n",
    "\n",
    "from shapely.geometry import Polygon\n",
    "from shapely import set_precision\n",
    "from shapely import normalize\n",
    "\n",
    "import distinctipy\n",
    "\n",
    "TR = [\n",
    "    lambda x,y: (+x, +y),  # Identity\n",
    "    lambda x,y: (+y, -x),  # Rotate  90\n",
    "    lambda x,y: (-x, -y),  # Rotate 180\n",
    "    lambda x,y: (-y, +x),  # Rotate 270\n",
    "    lambda x,y: (+x, -y),  # Mirror\n",
    "    lambda x,y: (+y, +x),  # Mirror + Rotate  90\n",
    "    lambda x,y: (-x, +y),  # Mirror + Rotate 180\n",
    "    lambda x,y: (-y, -x),  # Mirror + Rotate 270\n",
    "]\n",
    "\n",
    "# ---------------------------\n",
    "# 1. Core Congruence Detection\n",
    "# ---------------------------\n",
    "\n",
    "MAP = np.array([0, 1, 2, 3, 4, 5, 6, 7], dtype=np.int64)\n",
    "INVERSE_MAP = np.array([0, 3, 2, 1, 4, 7, 6, 5], dtype=np.int64)\n",
    "\n",
    "#@njit\n",
    "def transformX(points, trans_index):\n",
    "    transformed = np.empty_like(points)\n",
    "    for i in range(len(points)):    \n",
    "        transformed[i] = TR[trans_index](*points[i])\n",
    "    return transformed\n",
    "    \n",
    "@njit\n",
    "def transform(points, trans_idx):\n",
    "    transformed = np.empty_like(points)\n",
    "\n",
    "    for i in range(len(points)):\n",
    "        x, y = points[i]\n",
    "        if trans_idx == 0:    # Identity\n",
    "            tx, ty = x, y\n",
    "        elif trans_idx == 1:  # Rotate 90°\n",
    "            tx, ty = y, -x\n",
    "        elif trans_idx == 2:  # Rotate 180°\n",
    "            tx, ty = -x, -y\n",
    "        elif trans_idx == 3:  # Rotate 270°\n",
    "            tx, ty = -y, x\n",
    "        elif trans_idx == 4:  # Reflect over y-axis\n",
    "            tx, ty = x, -y\n",
    "        elif trans_idx == 5:  # Reflect + Rotate 90°\n",
    "            tx, ty = y, x\n",
    "        elif trans_idx == 6:  # Reflect + Rotate 180°\n",
    "            tx, ty = -x, y\n",
    "        elif trans_idx == 7:  # Reflect + Rotate 270°\n",
    "            tx, ty = -y, -x\n",
    "        transformed[i] = (tx, ty)\n",
    "    return transformed\n",
    "\n",
    "def center(points):\n",
    "    centroid = (np.min(points, axis=0) + np.max(points, axis=0)) / 2\n",
    "    return points - centroid, centroid\n",
    "\n",
    "def group_by_length(polygons):\n",
    "    groups = defaultdict(list)\n",
    "    for polygon in polygons:\n",
    "        groups[len(polygon)].append(polygon)\n",
    "    return groups\n",
    "\n",
    "def hash_polygon(polygon):\n",
    "    return hash(normalize(set_precision(Polygon(polygon), grid_size=0.00001)))\n",
    "    \n",
    "def group_congruent_polygons(polygons):\n",
    "    groups = {}\n",
    "    \n",
    "    for idx, poly in enumerate(polygons):\n",
    "        centered_poly, centroid = center(poly)\n",
    "        \n",
    "        found = False\n",
    "        for trans_index in MAP:    \n",
    "            key = hash_polygon(transform(centered_poly, trans_index))\n",
    "            if groups.get(key) is not None:        \n",
    "                groups[key].append({\n",
    "                    'index': idx,\n",
    "                    'centroid': centroid,\n",
    "                    'transformation': INVERSE_MAP[trans_index]\n",
    "                })\n",
    "                found = True\n",
    "        \n",
    "        if not found:\n",
    "            # first element is the reference polygon\n",
    "            key = hash_polygon(centered_poly)\n",
    "            groups[key] = [centered_poly]\n",
    "            \n",
    "            # All other elements are instances\n",
    "            groups[key].append({\n",
    "                'index': idx,\n",
    "                'centroid': centroid,\n",
    "                'transformation': 0\n",
    "            })\n",
    "    return groups\n",
    "\n",
    "# ---------------------------\n",
    "# 2. Reconstruction Function\n",
    "# ---------------------------\n",
    "\n",
    "def reconstruct(groups, colored = False):\n",
    "    result = []\n",
    "    for i, (key, group) in enumerate(groups.items()):\n",
    "        reference = group[0]\n",
    "        for polygon in group[1:]:\n",
    "            poly = transform(reference, INVERSE_MAP[polygon[\"transformation\"]]) + polygon[\"centroid\"]\n",
    "            result.append(poly)\n",
    "    return result\n",
    "\n",
    "def reconstruct_colored(groups):\n",
    "    result = []\n",
    "    colors = [f\"rgba({r},{g},{b},1.0)\" for r,g,b in (np.array(distinctipy.get_colors(len(groups))) * 255).round(0)]\n",
    "    for i, (key, group) in enumerate(groups.items()):\n",
    "        reference = group[0]\n",
    "        for polygon in group[1:]:\n",
    "            poly = transform(reference, INVERSE_MAP[polygon[\"transformation\"]]) + polygon[\"centroid\"]\n",
    "            result.append((poly, colors[i]))\n",
    "\n",
    "    return result\n",
    "\n",
    "# ---------------------------\n",
    "# 3. Plot Polygons\n",
    "# ---------------------------\n",
    "\n",
    "def plot_polygons(polygons, title=\"Original Polygons\", width=1300, height=1300):\n",
    "    fig = go.Figure()\n",
    "    \n",
    "    for i, (poly, color) in enumerate(polygons):\n",
    "        fill_color = color.replace(\"1.0\", \"0.3\")\n",
    "        closed = np.vstack((poly, poly[0]))\n",
    "        fig.add_trace(go.Scatter(\n",
    "            x=closed[:,0], y=closed[:,1],\n",
    "            mode='lines',\n",
    "            line=dict(color=color, width=1),\n",
    "            fill='toself',\n",
    "            fillcolor=fill_color,\n",
    "            name=f'Polygon {i}'\n",
    "        ))\n",
    "    \n",
    "    fig.update_layout(\n",
    "        title=title,\n",
    "        width=width, height=height,\n",
    "        showlegend=False,\n",
    "        plot_bgcolor='white',\n",
    "        xaxis=dict(showgrid=False, zeroline=False, scaleanchor='y'),\n",
    "        yaxis=dict(showgrid=False, zeroline=False, scaleanchor='x')\n",
    "    )\n",
    "    fig.show()"
   ]
  },
  {
   "cell_type": "code",
   "execution_count": null,
   "id": "6bbc0dde-1d7e-44f8-a932-f50d7148b4d2",
   "metadata": {},
   "outputs": [],
   "source": [
    "c = gf.read.import_gds(\"example_sky130.gds\")\n",
    "\n",
    "layer_polygons = to_poly(c, layer_stack=LAYER_STACK)"
   ]
  },
  {
   "cell_type": "code",
   "execution_count": null,
   "id": "98fa6b32-31d9-4011-a02a-d32e2753c3b1",
   "metadata": {},
   "outputs": [],
   "source": [
    "layer_polygons.keys()"
   ]
  },
  {
   "cell_type": "code",
   "execution_count": null,
   "id": "c125c76e-74a9-4e81-849b-e1429c9ee40d",
   "metadata": {},
   "outputs": [],
   "source": [
    "polygons = layer_polygons['polydrawing_m']"
   ]
  },
  {
   "cell_type": "code",
   "execution_count": null,
   "id": "546116d2-e07a-4ddd-81b2-ccbb3bf8ecda",
   "metadata": {},
   "outputs": [],
   "source": [
    "groups = group_by_length(polygons)"
   ]
  },
  {
   "cell_type": "code",
   "execution_count": null,
   "id": "a1e9bb40-4256-4b51-96a2-107c65004a64",
   "metadata": {},
   "outputs": [],
   "source": [
    "groups.keys()"
   ]
  },
  {
   "cell_type": "code",
   "execution_count": null,
   "id": "e35ebf5f-5b69-4bd7-b34f-132c2a4f7c57",
   "metadata": {},
   "outputs": [],
   "source": [
    "plot_polygons([(p, \"rgba(48,48,48,1.0)\") for p in polygons])"
   ]
  },
  {
   "cell_type": "code",
   "execution_count": null,
   "id": "8c8994ae-715c-4e52-b266-5eec3523a1a2",
   "metadata": {},
   "outputs": [],
   "source": [
    "for g in groups.values():\n",
    "    plot_polygons([(p, \"rgba(48,48,48,1.0)\") for p in g])\n",
    "    groups2 = group_congruent_polygons(g)\n",
    "    result = reconstruct(groups2, True)\n",
    "    plot_polygons(result)"
   ]
  },
  {
   "cell_type": "code",
   "execution_count": null,
   "id": "6aa0c6f5-60b5-4ace-b52f-9026102f0fca",
   "metadata": {},
   "outputs": [],
   "source": [
    "hash_polygon(center(g[411])[0]), hash_polygon(transform(center(g[428])[0],4))"
   ]
  },
  {
   "cell_type": "code",
   "execution_count": null,
   "id": "0e66af2e-cdcf-456e-8bbf-9f27de4bf8e7",
   "metadata": {},
   "outputs": [],
   "source": [
    "\n",
    "result = reconstruct(groups2, True)"
   ]
  },
  {
   "cell_type": "code",
   "execution_count": null,
   "id": "813af25e-f4a9-4250-bb5b-070f84c957c9",
   "metadata": {},
   "outputs": [],
   "source": [
    "plot_polygons(result)"
   ]
  },
  {
   "cell_type": "code",
   "execution_count": null,
   "id": "ebf61f0f-d44b-495e-b51e-206e412f0b8f",
   "metadata": {},
   "outputs": [],
   "source": [
    "groups2.keys()"
   ]
  },
  {
   "cell_type": "code",
   "execution_count": null,
   "id": "743a93e5-0035-4dd9-989d-94502c6a3998",
   "metadata": {},
   "outputs": [],
   "source": [
    "[f\"rgba({r},{g},{b},1.0)\" for r,g,b in (p.array(distinctipy.get_colors(len(groups))) * 255).round(0)]"
   ]
  },
  {
   "cell_type": "code",
   "execution_count": null,
   "id": "33d886e2-e36f-44dc-bc2a-f0247d474f2e",
   "metadata": {},
   "outputs": [],
   "source": [
    "p = normalize(Polygon(polygons[1]))"
   ]
  },
  {
   "cell_type": "code",
   "execution_count": null,
   "id": "8535dfbb-37c5-4750-ae04-fc2701c68480",
   "metadata": {},
   "outputs": [],
   "source": [
    "np.array(p.exterior.coords)"
   ]
  },
  {
   "cell_type": "code",
   "execution_count": null,
   "id": "0b59e734-4fda-4e01-9e13-1c42ca46be1d",
   "metadata": {},
   "outputs": [],
   "source": [
    "# ---------------------------\n",
    "# 3-4. Plotting Functions\n",
    "# ---------------------------\n",
    "\n",
    "def plot_polygons(polygons, title=\"Original Polygons\", width=1300, height=1300):\n",
    "    fig = go.Figure()\n",
    "    color = \"rgba(0.3, 0.3, 0.3, 1.0)\"\n",
    "    fill_color = \"rgba(0.3, 0.3, 0.3, 0.2)\"\n",
    "    \n",
    "    for i, poly in enumerate(polygons):\n",
    "        closed = np.vstack((poly, poly[0]))\n",
    "        fig.add_trace(go.Scatter(\n",
    "            x=closed[:,0], y=closed[:,1],\n",
    "            mode='lines',\n",
    "            line=dict(color=color, width=1),\n",
    "            fill='toself',\n",
    "            fillcolor=fill_color\n",
    "        ))\n",
    "    \n",
    "    fig.update_layout(\n",
    "        title=title,\n",
    "        width=width, height=height,\n",
    "        showlegend=False,\n",
    "        plot_bgcolor='white',\n",
    "        xaxis=dict(showgrid=False, zeroline=False, scaleanchor='y'),\n",
    "        yaxis=dict(showgrid=False, zeroline=False, scaleanchor='x')\n",
    "    )\n",
    "    fig.show()\n",
    "\n",
    "def plot_congruence_groups(groups, width=900, height=900):\n",
    "    for group_idx, group in enumerate(groups):\n",
    "        fig = go.Figure()\n",
    "\n",
    "        color = \"rgba(0.3, 0.3, 0.3, 1.0)\"\n",
    "        fill_color = \"rgba(0.3, 0.3, 0.3, 0.2)\"\n",
    "        \n",
    "        # Reference polygon\n",
    "        ref_closed = np.vstack((group['reference'], group['reference'][0]))\n",
    "        fig.add_trace(go.Scatter(\n",
    "            x=ref_closed[:,0], y=ref_closed[:,1],\n",
    "            mode='lines',\n",
    "            line=dict(color='black', width=1),\n",
    "            marker=dict(size=8),\n",
    "            fill='toself',\n",
    "            fillcolor=fill_color\n",
    "        ))\n",
    "        \n",
    "        # Reconstructed members\n",
    "        for i, member in enumerate(group['members']):\n",
    "            reconstructed = reconstruct_from_group(group, member)\n",
    "            closed = np.vstack((reconstructed, reconstructed[0]))\n",
    "            fig.add_trace(go.Scatter(\n",
    "                x=closed[:,0], y=closed[:,1],\n",
    "                mode='lines',\n",
    "                line=dict(color=color, width=1),\n",
    "                fill='toself',\n",
    "                fillcolor=fill_color\n",
    "            ))\n",
    "        \n",
    "        fig.update_layout(\n",
    "            title=f'Group {group_idx} ({len(group[\"members\"])} members)',\n",
    "            width=width, height=height,\n",
    "            showlegend=False,\n",
    "            plot_bgcolor='white',\n",
    "            xaxis=dict(showgrid=False, zeroline=False, scaleanchor='y'),\n",
    "            yaxis=dict(showgrid=False, zeroline=False, scaleanchor='x')\n",
    "        )\n",
    "        fig.show()"
   ]
  },
  {
   "cell_type": "code",
   "execution_count": null,
   "id": "ae381374-da25-4128-a61e-bbac1e682868",
   "metadata": {},
   "outputs": [],
   "source": [
    "def plot(polygons, width=1300, height=1300):\n",
    "    fig = go.Figure()\n",
    "    rgb = ((0.3,0,0), (0,0.3,0), (0,0,0.3))\n",
    "    \n",
    "    for i, (poly) in enumerate(polygons):\n",
    "        r,g,b = rgb[i]\n",
    "        color = f\"rgba({r}, {g}, {b}, 1.0)\"\n",
    "        fill_color = f\"rgba({r}, {g}, {b}, 0.2)\"\n",
    "        closed = poly # np.vstack((poly, poly[0]))\n",
    "        fig.add_trace(go.Scatter(\n",
    "            x=closed[:,0], \n",
    "            y=closed[:,1],\n",
    "            mode='lines',\n",
    "            line=dict(color=color, width=1),\n",
    "            fill='toself',\n",
    "            fillcolor=fill_color,\n",
    "            name=f'Polygon {i}'\n",
    "        ))\n",
    "    \n",
    "        fig.update_layout(\n",
    "            width=width,\n",
    "            height=height,\n",
    "            plot_bgcolor='white',\n",
    "            paper_bgcolor='white',\n",
    "            xaxis=dict(\n",
    "                zeroline=True,\n",
    "                zerolinecolor='lightgrey',\n",
    "                showline=True,\n",
    "                linecolor='lightgrey',\n",
    "                mirror=True,\n",
    "                anchor='y',\n",
    "                position=0.5  # This centers the axis if using domain, see note below\n",
    "            ),\n",
    "            yaxis=dict(\n",
    "                zeroline=True,\n",
    "                zerolinecolor='lightgrey',\n",
    "                showline=True,\n",
    "                linecolor='lightgrey',\n",
    "                mirror=True,\n",
    "                anchor='x',\n",
    "                position=0.5\n",
    "            )\n",
    "        )\n",
    "    fig.show()"
   ]
  },
  {
   "cell_type": "code",
   "execution_count": null,
   "id": "2aa82df4-3226-41b9-b31c-c8ac4abdffea",
   "metadata": {},
   "outputs": [],
   "source": [
    "p1 = list(groups2.values())[0][0]\n",
    "p2 = list(groups2.values())[1][0]"
   ]
  },
  {
   "cell_type": "code",
   "execution_count": null,
   "id": "2a97da38-ccc6-431e-b8b1-61f568508e72",
   "metadata": {},
   "outputs": [],
   "source": [
    "plot([p1, transform(p2,4)], 600, 600)"
   ]
  },
  {
   "cell_type": "code",
   "execution_count": null,
   "id": "ad1bf840-c912-4ce0-99a6-772f040149b0",
   "metadata": {},
   "outputs": [],
   "source": [
    "from shapely.geometry import Polygon\n",
    "from shapely import set_precision\n",
    "\n",
    "\n",
    "ps1 = Polygon(p1)\n",
    "ps2 = Polygon(transform(p2,4))\n",
    "ps1 = set_precision(ps1, grid_size=0.00001)\n",
    "ps2 = set_precision(ps2, grid_size=0.00001)\n",
    "hash(normalize(ps1)), hash(normalize(ps2))"
   ]
  },
  {
   "cell_type": "code",
   "execution_count": null,
   "id": "d555a2a9-ea17-4028-89e0-38a0c82f280d",
   "metadata": {},
   "outputs": [],
   "source": [
    "ps1.equals(ps2)"
   ]
  },
  {
   "cell_type": "code",
   "execution_count": null,
   "id": "aa3e184d-5448-43de-bc95-527d7e6318d2",
   "metadata": {},
   "outputs": [],
   "source": [
    "hash(normalize(ps1)), hash(normalize(ps2))"
   ]
  },
  {
   "cell_type": "code",
   "execution_count": null,
   "id": "53aa7040-29d7-4166-b609-8cd0c511ac9a",
   "metadata": {},
   "outputs": [],
   "source": [
    "from shapely.plotting import plot_polygon\n",
    "import matplotlib.pyplot as plt"
   ]
  },
  {
   "cell_type": "code",
   "execution_count": null,
   "id": "8def9c0b-a02b-4df4-be17-7fa604c7f001",
   "metadata": {},
   "outputs": [],
   "source": [
    "plot([polygons[1155]], 600, 600)"
   ]
  },
  {
   "cell_type": "code",
   "execution_count": null,
   "id": "4f24b452-3885-4367-a3ad-da23a507bc65",
   "metadata": {},
   "outputs": [],
   "source": [
    "from shapely import normalize, to_wkb\n",
    "\n",
    "ps = Polygon(polygons[1155])\n",
    "set_precision(ps1, grid_size=0.00001)\n",
    "print(to_wkb(normalize(ps)))"
   ]
  },
  {
   "cell_type": "code",
   "execution_count": null,
   "id": "725858c2-b16e-4bbc-b376-484c6f886035",
   "metadata": {},
   "outputs": [],
   "source": [
    "print(ps)"
   ]
  },
  {
   "cell_type": "code",
   "execution_count": null,
   "id": "a6b216c4-3c2e-4b81-83ee-cfd645441001",
   "metadata": {},
   "outputs": [],
   "source": [
    "normalize?"
   ]
  },
  {
   "cell_type": "code",
   "execution_count": null,
   "id": "754f54d0-6606-499d-b80b-ffcb2b7760bb",
   "metadata": {},
   "outputs": [],
   "source": [
    "to_wkb"
   ]
  },
  {
   "cell_type": "code",
   "execution_count": null,
   "id": "f578c846-2c94-48b1-90e0-ee570853a0fe",
   "metadata": {},
   "outputs": [],
   "source": []
  },
  {
   "cell_type": "code",
   "execution_count": null,
   "id": "072003e8-db6d-4e58-a60a-efeb66bfcf1e",
   "metadata": {},
   "outputs": [],
   "source": []
  },
  {
   "cell_type": "code",
   "execution_count": null,
   "id": "ed3120e3-eff7-4905-86f4-425aab0a934a",
   "metadata": {},
   "outputs": [],
   "source": []
  },
  {
   "cell_type": "code",
   "execution_count": null,
   "id": "dc725e25-88cb-4d35-b95d-bcd86ca9332a",
   "metadata": {},
   "outputs": [],
   "source": [
    "# 1. Plot originals\n",
    "plot_polygons(polygons)"
   ]
  },
  {
   "cell_type": "code",
   "execution_count": null,
   "id": "f2131a68-fee3-49c4-89a6-b1673d56bbe8",
   "metadata": {},
   "outputs": [],
   "source": [
    "# 2. Group polygons\n",
    "groups = group_congruent_polygons(polygons)"
   ]
  },
  {
   "cell_type": "code",
   "execution_count": null,
   "id": "4f0d1142-474a-472b-9584-23fa8560f765",
   "metadata": {},
   "outputs": [],
   "source": [
    "len(groups)"
   ]
  },
  {
   "cell_type": "code",
   "execution_count": null,
   "id": "fc461844-bc89-4bd3-bdf6-929b69a74564",
   "metadata": {},
   "outputs": [],
   "source": [
    "groups[0][\"reference\"]"
   ]
  },
  {
   "cell_type": "code",
   "execution_count": null,
   "id": "a8c101fe-b54a-41bf-aad9-172abf2423de",
   "metadata": {},
   "outputs": [],
   "source": [
    "groups[1][\"reference\"]"
   ]
  },
  {
   "cell_type": "code",
   "execution_count": null,
   "id": "bb281bbb-62e9-46e3-9498-d2aa981d4e27",
   "metadata": {},
   "outputs": [],
   "source": [
    "# 3. Plot groups\n",
    "plot_congruence_groups(groups)"
   ]
  },
  {
   "cell_type": "code",
   "execution_count": null,
   "id": "42be1eed-fb83-4901-9e85-2433f98e410a",
   "metadata": {},
   "outputs": [],
   "source": []
  },
  {
   "cell_type": "code",
   "execution_count": null,
   "id": "4ddac891-ea1f-4e85-a00f-4aa12f0dcb08",
   "metadata": {},
   "outputs": [],
   "source": []
  },
  {
   "cell_type": "code",
   "execution_count": 6,
   "id": "309a71d6-3c4e-4c41-911a-ea90398054fe",
   "metadata": {},
   "outputs": [
    {
     "data": {
      "application/vnd.plotly.v1+json": {
       "config": {
        "plotlyServerURL": "https://plot.ly"
       },
       "data": [
        {
         "fill": "toself",
         "fillcolor": "rgba(48,48,48,0.3)",
         "line": {
          "color": "rgba(48,48,48,1.0)",
          "width": 1
         },
         "mode": "lines",
         "name": "Polygon 0 / 0",
         "type": "scatter",
         "x": {
          "bdata": "BAUFAwMEBA==",
          "dtype": "i1"
         },
         "y": {
          "bdata": "AAD//wICAA==",
          "dtype": "i1"
         }
        },
        {
         "fill": "toself",
         "fillcolor": "rgba(48,48,48,0.3)",
         "line": {
          "color": "rgba(48,48,48,1.0)",
          "width": 1
         },
         "mode": "lines",
         "name": "Polygon 1 / 0",
         "type": "scatter",
         "x": {
          "bdata": "CAgHBwoKCA==",
          "dtype": "i1"
         },
         "y": {
          "bdata": "AP//AQEAAA==",
          "dtype": "i1"
         }
        },
        {
         "fill": "toself",
         "fillcolor": "rgba(48,48,48,0.3)",
         "line": {
          "color": "rgba(48,48,48,1.0)",
          "width": 1
         },
         "mode": "lines",
         "name": "Polygon 2 / 0",
         "type": "scatter",
         "x": {
          "bdata": "DAsLDQ0MDA==",
          "dtype": "i1"
         },
         "y": {
          "bdata": "AAABAf7+AA==",
          "dtype": "i1"
         }
        },
        {
         "fill": "toself",
         "fillcolor": "rgba(48,48,48,0.3)",
         "line": {
          "color": "rgba(48,48,48,1.0)",
          "width": 1
         },
         "mode": "lines",
         "name": "Polygon 3 / 0",
         "type": "scatter",
         "x": {
          "bdata": "EBAREQ4OEA==",
          "dtype": "i1"
         },
         "y": {
          "bdata": "AAEB//8AAA==",
          "dtype": "i1"
         }
        },
        {
         "fill": "toself",
         "fillcolor": "rgba(48,48,48,0.3)",
         "line": {
          "color": "rgba(48,48,48,1.0)",
          "width": 1
         },
         "mode": "lines",
         "name": "Polygon 4 / 0",
         "type": "scatter",
         "x": {
          "bdata": "BAUFAwMEBA==",
          "dtype": "i1"
         },
         "y": {
          "bdata": "/Pz9/fr6/A==",
          "dtype": "i1"
         }
        },
        {
         "fill": "toself",
         "fillcolor": "rgba(48,48,48,0.3)",
         "line": {
          "color": "rgba(48,48,48,1.0)",
          "width": 1
         },
         "mode": "lines",
         "name": "Polygon 5 / 0",
         "type": "scatter",
         "x": {
          "bdata": "CAgHBwoKCA==",
          "dtype": "i1"
         },
         "y": {
          "bdata": "/P39+/v8/A==",
          "dtype": "i1"
         }
        },
        {
         "fill": "toself",
         "fillcolor": "rgba(48,48,48,0.3)",
         "line": {
          "color": "rgba(48,48,48,1.0)",
          "width": 1
         },
         "mode": "lines",
         "name": "Polygon 6 / 0",
         "type": "scatter",
         "x": {
          "bdata": "DAsLDQ0MDA==",
          "dtype": "i1"
         },
         "y": {
          "bdata": "/Pz7+/7+/A==",
          "dtype": "i1"
         }
        },
        {
         "fill": "toself",
         "fillcolor": "rgba(48,48,48,0.3)",
         "line": {
          "color": "rgba(48,48,48,1.0)",
          "width": 1
         },
         "mode": "lines",
         "name": "Polygon 7 / 0",
         "type": "scatter",
         "x": {
          "bdata": "EBAREQ4OEA==",
          "dtype": "i1"
         },
         "y": {
          "bdata": "/Pv7/f38/A==",
          "dtype": "i1"
         }
        }
       ],
       "layout": {
        "height": 1300,
        "plot_bgcolor": "white",
        "showlegend": false,
        "template": {
         "data": {
          "bar": [
           {
            "error_x": {
             "color": "#2a3f5f"
            },
            "error_y": {
             "color": "#2a3f5f"
            },
            "marker": {
             "line": {
              "color": "#E5ECF6",
              "width": 0.5
             },
             "pattern": {
              "fillmode": "overlay",
              "size": 10,
              "solidity": 0.2
             }
            },
            "type": "bar"
           }
          ],
          "barpolar": [
           {
            "marker": {
             "line": {
              "color": "#E5ECF6",
              "width": 0.5
             },
             "pattern": {
              "fillmode": "overlay",
              "size": 10,
              "solidity": 0.2
             }
            },
            "type": "barpolar"
           }
          ],
          "carpet": [
           {
            "aaxis": {
             "endlinecolor": "#2a3f5f",
             "gridcolor": "white",
             "linecolor": "white",
             "minorgridcolor": "white",
             "startlinecolor": "#2a3f5f"
            },
            "baxis": {
             "endlinecolor": "#2a3f5f",
             "gridcolor": "white",
             "linecolor": "white",
             "minorgridcolor": "white",
             "startlinecolor": "#2a3f5f"
            },
            "type": "carpet"
           }
          ],
          "choropleth": [
           {
            "colorbar": {
             "outlinewidth": 0,
             "ticks": ""
            },
            "type": "choropleth"
           }
          ],
          "contour": [
           {
            "colorbar": {
             "outlinewidth": 0,
             "ticks": ""
            },
            "colorscale": [
             [
              0,
              "#0d0887"
             ],
             [
              0.1111111111111111,
              "#46039f"
             ],
             [
              0.2222222222222222,
              "#7201a8"
             ],
             [
              0.3333333333333333,
              "#9c179e"
             ],
             [
              0.4444444444444444,
              "#bd3786"
             ],
             [
              0.5555555555555556,
              "#d8576b"
             ],
             [
              0.6666666666666666,
              "#ed7953"
             ],
             [
              0.7777777777777778,
              "#fb9f3a"
             ],
             [
              0.8888888888888888,
              "#fdca26"
             ],
             [
              1,
              "#f0f921"
             ]
            ],
            "type": "contour"
           }
          ],
          "contourcarpet": [
           {
            "colorbar": {
             "outlinewidth": 0,
             "ticks": ""
            },
            "type": "contourcarpet"
           }
          ],
          "heatmap": [
           {
            "colorbar": {
             "outlinewidth": 0,
             "ticks": ""
            },
            "colorscale": [
             [
              0,
              "#0d0887"
             ],
             [
              0.1111111111111111,
              "#46039f"
             ],
             [
              0.2222222222222222,
              "#7201a8"
             ],
             [
              0.3333333333333333,
              "#9c179e"
             ],
             [
              0.4444444444444444,
              "#bd3786"
             ],
             [
              0.5555555555555556,
              "#d8576b"
             ],
             [
              0.6666666666666666,
              "#ed7953"
             ],
             [
              0.7777777777777778,
              "#fb9f3a"
             ],
             [
              0.8888888888888888,
              "#fdca26"
             ],
             [
              1,
              "#f0f921"
             ]
            ],
            "type": "heatmap"
           }
          ],
          "histogram": [
           {
            "marker": {
             "pattern": {
              "fillmode": "overlay",
              "size": 10,
              "solidity": 0.2
             }
            },
            "type": "histogram"
           }
          ],
          "histogram2d": [
           {
            "colorbar": {
             "outlinewidth": 0,
             "ticks": ""
            },
            "colorscale": [
             [
              0,
              "#0d0887"
             ],
             [
              0.1111111111111111,
              "#46039f"
             ],
             [
              0.2222222222222222,
              "#7201a8"
             ],
             [
              0.3333333333333333,
              "#9c179e"
             ],
             [
              0.4444444444444444,
              "#bd3786"
             ],
             [
              0.5555555555555556,
              "#d8576b"
             ],
             [
              0.6666666666666666,
              "#ed7953"
             ],
             [
              0.7777777777777778,
              "#fb9f3a"
             ],
             [
              0.8888888888888888,
              "#fdca26"
             ],
             [
              1,
              "#f0f921"
             ]
            ],
            "type": "histogram2d"
           }
          ],
          "histogram2dcontour": [
           {
            "colorbar": {
             "outlinewidth": 0,
             "ticks": ""
            },
            "colorscale": [
             [
              0,
              "#0d0887"
             ],
             [
              0.1111111111111111,
              "#46039f"
             ],
             [
              0.2222222222222222,
              "#7201a8"
             ],
             [
              0.3333333333333333,
              "#9c179e"
             ],
             [
              0.4444444444444444,
              "#bd3786"
             ],
             [
              0.5555555555555556,
              "#d8576b"
             ],
             [
              0.6666666666666666,
              "#ed7953"
             ],
             [
              0.7777777777777778,
              "#fb9f3a"
             ],
             [
              0.8888888888888888,
              "#fdca26"
             ],
             [
              1,
              "#f0f921"
             ]
            ],
            "type": "histogram2dcontour"
           }
          ],
          "mesh3d": [
           {
            "colorbar": {
             "outlinewidth": 0,
             "ticks": ""
            },
            "type": "mesh3d"
           }
          ],
          "parcoords": [
           {
            "line": {
             "colorbar": {
              "outlinewidth": 0,
              "ticks": ""
             }
            },
            "type": "parcoords"
           }
          ],
          "pie": [
           {
            "automargin": true,
            "type": "pie"
           }
          ],
          "scatter": [
           {
            "fillpattern": {
             "fillmode": "overlay",
             "size": 10,
             "solidity": 0.2
            },
            "type": "scatter"
           }
          ],
          "scatter3d": [
           {
            "line": {
             "colorbar": {
              "outlinewidth": 0,
              "ticks": ""
             }
            },
            "marker": {
             "colorbar": {
              "outlinewidth": 0,
              "ticks": ""
             }
            },
            "type": "scatter3d"
           }
          ],
          "scattercarpet": [
           {
            "marker": {
             "colorbar": {
              "outlinewidth": 0,
              "ticks": ""
             }
            },
            "type": "scattercarpet"
           }
          ],
          "scattergeo": [
           {
            "marker": {
             "colorbar": {
              "outlinewidth": 0,
              "ticks": ""
             }
            },
            "type": "scattergeo"
           }
          ],
          "scattergl": [
           {
            "marker": {
             "colorbar": {
              "outlinewidth": 0,
              "ticks": ""
             }
            },
            "type": "scattergl"
           }
          ],
          "scattermap": [
           {
            "marker": {
             "colorbar": {
              "outlinewidth": 0,
              "ticks": ""
             }
            },
            "type": "scattermap"
           }
          ],
          "scattermapbox": [
           {
            "marker": {
             "colorbar": {
              "outlinewidth": 0,
              "ticks": ""
             }
            },
            "type": "scattermapbox"
           }
          ],
          "scatterpolar": [
           {
            "marker": {
             "colorbar": {
              "outlinewidth": 0,
              "ticks": ""
             }
            },
            "type": "scatterpolar"
           }
          ],
          "scatterpolargl": [
           {
            "marker": {
             "colorbar": {
              "outlinewidth": 0,
              "ticks": ""
             }
            },
            "type": "scatterpolargl"
           }
          ],
          "scatterternary": [
           {
            "marker": {
             "colorbar": {
              "outlinewidth": 0,
              "ticks": ""
             }
            },
            "type": "scatterternary"
           }
          ],
          "surface": [
           {
            "colorbar": {
             "outlinewidth": 0,
             "ticks": ""
            },
            "colorscale": [
             [
              0,
              "#0d0887"
             ],
             [
              0.1111111111111111,
              "#46039f"
             ],
             [
              0.2222222222222222,
              "#7201a8"
             ],
             [
              0.3333333333333333,
              "#9c179e"
             ],
             [
              0.4444444444444444,
              "#bd3786"
             ],
             [
              0.5555555555555556,
              "#d8576b"
             ],
             [
              0.6666666666666666,
              "#ed7953"
             ],
             [
              0.7777777777777778,
              "#fb9f3a"
             ],
             [
              0.8888888888888888,
              "#fdca26"
             ],
             [
              1,
              "#f0f921"
             ]
            ],
            "type": "surface"
           }
          ],
          "table": [
           {
            "cells": {
             "fill": {
              "color": "#EBF0F8"
             },
             "line": {
              "color": "white"
             }
            },
            "header": {
             "fill": {
              "color": "#C8D4E3"
             },
             "line": {
              "color": "white"
             }
            },
            "type": "table"
           }
          ]
         },
         "layout": {
          "annotationdefaults": {
           "arrowcolor": "#2a3f5f",
           "arrowhead": 0,
           "arrowwidth": 1
          },
          "autotypenumbers": "strict",
          "coloraxis": {
           "colorbar": {
            "outlinewidth": 0,
            "ticks": ""
           }
          },
          "colorscale": {
           "diverging": [
            [
             0,
             "#8e0152"
            ],
            [
             0.1,
             "#c51b7d"
            ],
            [
             0.2,
             "#de77ae"
            ],
            [
             0.3,
             "#f1b6da"
            ],
            [
             0.4,
             "#fde0ef"
            ],
            [
             0.5,
             "#f7f7f7"
            ],
            [
             0.6,
             "#e6f5d0"
            ],
            [
             0.7,
             "#b8e186"
            ],
            [
             0.8,
             "#7fbc41"
            ],
            [
             0.9,
             "#4d9221"
            ],
            [
             1,
             "#276419"
            ]
           ],
           "sequential": [
            [
             0,
             "#0d0887"
            ],
            [
             0.1111111111111111,
             "#46039f"
            ],
            [
             0.2222222222222222,
             "#7201a8"
            ],
            [
             0.3333333333333333,
             "#9c179e"
            ],
            [
             0.4444444444444444,
             "#bd3786"
            ],
            [
             0.5555555555555556,
             "#d8576b"
            ],
            [
             0.6666666666666666,
             "#ed7953"
            ],
            [
             0.7777777777777778,
             "#fb9f3a"
            ],
            [
             0.8888888888888888,
             "#fdca26"
            ],
            [
             1,
             "#f0f921"
            ]
           ],
           "sequentialminus": [
            [
             0,
             "#0d0887"
            ],
            [
             0.1111111111111111,
             "#46039f"
            ],
            [
             0.2222222222222222,
             "#7201a8"
            ],
            [
             0.3333333333333333,
             "#9c179e"
            ],
            [
             0.4444444444444444,
             "#bd3786"
            ],
            [
             0.5555555555555556,
             "#d8576b"
            ],
            [
             0.6666666666666666,
             "#ed7953"
            ],
            [
             0.7777777777777778,
             "#fb9f3a"
            ],
            [
             0.8888888888888888,
             "#fdca26"
            ],
            [
             1,
             "#f0f921"
            ]
           ]
          },
          "colorway": [
           "#636efa",
           "#EF553B",
           "#00cc96",
           "#ab63fa",
           "#FFA15A",
           "#19d3f3",
           "#FF6692",
           "#B6E880",
           "#FF97FF",
           "#FECB52"
          ],
          "font": {
           "color": "#2a3f5f"
          },
          "geo": {
           "bgcolor": "white",
           "lakecolor": "white",
           "landcolor": "#E5ECF6",
           "showlakes": true,
           "showland": true,
           "subunitcolor": "white"
          },
          "hoverlabel": {
           "align": "left"
          },
          "hovermode": "closest",
          "mapbox": {
           "style": "light"
          },
          "paper_bgcolor": "white",
          "plot_bgcolor": "#E5ECF6",
          "polar": {
           "angularaxis": {
            "gridcolor": "white",
            "linecolor": "white",
            "ticks": ""
           },
           "bgcolor": "#E5ECF6",
           "radialaxis": {
            "gridcolor": "white",
            "linecolor": "white",
            "ticks": ""
           }
          },
          "scene": {
           "xaxis": {
            "backgroundcolor": "#E5ECF6",
            "gridcolor": "white",
            "gridwidth": 2,
            "linecolor": "white",
            "showbackground": true,
            "ticks": "",
            "zerolinecolor": "white"
           },
           "yaxis": {
            "backgroundcolor": "#E5ECF6",
            "gridcolor": "white",
            "gridwidth": 2,
            "linecolor": "white",
            "showbackground": true,
            "ticks": "",
            "zerolinecolor": "white"
           },
           "zaxis": {
            "backgroundcolor": "#E5ECF6",
            "gridcolor": "white",
            "gridwidth": 2,
            "linecolor": "white",
            "showbackground": true,
            "ticks": "",
            "zerolinecolor": "white"
           }
          },
          "shapedefaults": {
           "line": {
            "color": "#2a3f5f"
           }
          },
          "ternary": {
           "aaxis": {
            "gridcolor": "white",
            "linecolor": "white",
            "ticks": ""
           },
           "baxis": {
            "gridcolor": "white",
            "linecolor": "white",
            "ticks": ""
           },
           "bgcolor": "#E5ECF6",
           "caxis": {
            "gridcolor": "white",
            "linecolor": "white",
            "ticks": ""
           }
          },
          "title": {
           "x": 0.05
          },
          "xaxis": {
           "automargin": true,
           "gridcolor": "white",
           "linecolor": "white",
           "ticks": "",
           "title": {
            "standoff": 15
           },
           "zerolinecolor": "white",
           "zerolinewidth": 2
          },
          "yaxis": {
           "automargin": true,
           "gridcolor": "white",
           "linecolor": "white",
           "ticks": "",
           "title": {
            "standoff": 15
           },
           "zerolinecolor": "white",
           "zerolinewidth": 2
          }
         }
        },
        "title": {
         "text": "Original Polygons"
        },
        "width": 1300,
        "xaxis": {
         "scaleanchor": "y",
         "showgrid": false,
         "zeroline": false
        },
        "yaxis": {
         "scaleanchor": "x",
         "showgrid": false,
         "zeroline": false
        }
       }
      }
     },
     "metadata": {},
     "output_type": "display_data"
    }
   ],
   "source": [
    "import numpy as np\n",
    "from polygon import *\n",
    "\n",
    "l = np.array([(0,0), (1,0), (1,-1), (-1,-1), (-1,2), (0,2)])\n",
    "\n",
    "offsets = [(4,0), (8,0),(12,0), (16,0), (4,-4), (8,-4), (12,-4), (16,-4)]\n",
    "polygons = [\n",
    "    transform(l, t) + o for t, o in enumerate(offsets)\n",
    "]\n",
    "\n",
    "plot_polygons([(p, \"rgba(48,48,48,1.0)\") for p in polygons])"
   ]
  },
  {
   "cell_type": "code",
   "execution_count": 8,
   "id": "c11d1214-4100-416d-a77f-caccecccb899",
   "metadata": {},
   "outputs": [
    {
     "data": {
      "text/plain": [
       "{-1969481517017659905: [array([[ 0. , -0.5],\n",
       "         [ 1. , -0.5],\n",
       "         [ 1. , -1.5],\n",
       "         [-1. , -1.5],\n",
       "         [-1. ,  1.5],\n",
       "         [ 0. ,  1.5]], dtype=float32),\n",
       "  {'idx': 0, 'centroid': [4.0, 0.5], 'transformation': 0},\n",
       "  {'idx': 1, 'centroid': [8.5, 0.0], 'transformation': 3},\n",
       "  {'idx': 2, 'centroid': [12.0, -0.5], 'transformation': 2},\n",
       "  {'idx': 3, 'centroid': [15.5, 0.0], 'transformation': 1},\n",
       "  {'idx': 4, 'centroid': [4.0, -4.5], 'transformation': 4},\n",
       "  {'idx': 5, 'centroid': [8.5, -4.0], 'transformation': 5},\n",
       "  {'idx': 6, 'centroid': [12.0, -3.5], 'transformation': 6},\n",
       "  {'idx': 7, 'centroid': [15.5, -4.0], 'transformation': 7}]}"
      ]
     },
     "execution_count": 8,
     "metadata": {},
     "output_type": "execute_result"
    }
   ],
   "source": [
    "groups = group_congruent_polygons(polygons)\n",
    "groups"
   ]
  },
  {
   "cell_type": "code",
   "execution_count": null,
   "id": "81dbadc8-68e2-4622-ab2c-69d819fa95c0",
   "metadata": {},
   "outputs": [],
   "source": [
    "plot_polygons([(p, \"rgba(48,48,48,1.0)\") for p in reconstruct(groups)])"
   ]
  },
  {
   "cell_type": "code",
   "execution_count": 2,
   "id": "ed7b07d0-fcba-41e6-95eb-a1bba3ef24fb",
   "metadata": {},
   "outputs": [],
   "source": [
    "import orjson\n",
    "from ocp_tessellate.utils import numpy_to_buffer_json\n",
    "\n",
    "def polygons_to_json(polygon):\n",
    "\n",
    "    top_name = \"GDS\"\n",
    "    poly_assembly = {\n",
    "        \"format\": \"GDS\",\n",
    "        \"version\": 2,\n",
    "        \"name\": top_name,\n",
    "        \"id\": f\"/{top_name}\",\n",
    "        \"loc\": [(0, 0, 0), (0, 0, 0, 1)],\n",
    "        \"instances\": [],\n",
    "        \"parts\": [],\n",
    "    }\n",
    "    ref = 0\n",
    "\n",
    "\n",
    "    zmin = 0\n",
    "    height = 1\n",
    "    name = \"Test\"\n",
    "    \n",
    "    poly_parts = {\n",
    "        \"format\": \"GDS\",\n",
    "        \"version\": 2,\n",
    "        \"name\": name,\n",
    "        \"id\": f\"/{top_name}/{name}\",\n",
    "        \"loc\": [(0, 0, zmin), (0, 0, 0, 1)],\n",
    "        \"parts\": [],\n",
    "    }\n",
    "\n",
    "    index = 0\n",
    "    groups_by_length = group_by_length(polygons).values()\n",
    "    for groups in groups_by_length:\n",
    "        congruent_polygons = group_congruent_polygons(groups)\n",
    "\n",
    "        for group in congruent_polygons.values():\n",
    "            poly_shape = {\n",
    "                \"name\": f\"group_{index}\",\n",
    "                \"id\": f\"/{top_name}/{name}/group_{index}\",\n",
    "                \"loc\": [(0, 0, 0), (0, 0, 0, 1)],\n",
    "                \"color\": \"#ff0000\",\n",
    "                \"shape\": {\n",
    "                    \"ref\": None,\n",
    "                    \"offsets\": None,\n",
    "                    \"height\": height,\n",
    "                },\n",
    "                \"renderback\": False,\n",
    "                \"state\": [1, 1],\n",
    "                \"type\": \"polygon\",\n",
    "                \"subtype\": \"solid\",\n",
    "            }\n",
    "            index += 1\n",
    "\n",
    "            poly_assembly[\"instances\"].append(group[0])\n",
    "            poly_shape[\"shape\"][\"ref\"] = ref\n",
    "            poly_shape[\"shape\"][\"offsets\"] = np.asarray(\n",
    "                [(*p[\"centroid\"], p[\"transformation\"]) for p in group[1:]],\n",
    "                dtype=\"float32\",\n",
    "            )\n",
    "            poly_parts[\"parts\"].append(poly_shape)\n",
    "            ref += 1\n",
    "\n",
    "    poly_assembly[\"parts\"].append(poly_parts)\n",
    "    return poly_assembly\n",
    "    return orjson.dumps(numpy_to_buffer_json(poly_assembly)).decode(\"utf-8\")"
   ]
  },
  {
   "cell_type": "code",
   "execution_count": 4,
   "id": "1281a4a2-25e2-471e-b630-fe23be2393df",
   "metadata": {},
   "outputs": [],
   "source": [
    "name = \"transformation_dummy\"\n",
    "with open(f\"{name}.js\", \"w\") as fd:\n",
    "        j = polygons_to_json(polygons)\n",
    "        fd.write(f\"const {name} = {j};\")"
   ]
  },
  {
   "cell_type": "code",
   "execution_count": 3,
   "id": "5c3edc1e-ce0c-420a-97d2-efad2d70f6f8",
   "metadata": {},
   "outputs": [
    {
     "data": {
      "text/plain": [
       "{'format': 'GDS',\n",
       " 'version': 2,\n",
       " 'name': 'GDS',\n",
       " 'id': '/GDS',\n",
       " 'loc': [(0, 0, 0), (0, 0, 0, 1)],\n",
       " 'instances': [array([[ 0. , -0.5],\n",
       "         [ 1. , -0.5],\n",
       "         [ 1. , -1.5],\n",
       "         [-1. , -1.5],\n",
       "         [-1. ,  1.5],\n",
       "         [ 0. ,  1.5]], dtype=float32)],\n",
       " 'parts': [{'format': 'GDS',\n",
       "   'version': 2,\n",
       "   'name': 'Test',\n",
       "   'id': '/GDS/Test',\n",
       "   'loc': [(0, 0, 0), (0, 0, 0, 1)],\n",
       "   'parts': [{'name': 'group_0',\n",
       "     'id': '/GDS/Test/group_0',\n",
       "     'loc': [(0, 0, 0), (0, 0, 0, 1)],\n",
       "     'color': '#ff0000',\n",
       "     'shape': {'ref': 0,\n",
       "      'offsets': array([[ 4. ,  0.5,  0. ],\n",
       "             [ 8.5,  0. ,  3. ],\n",
       "             [12. , -0.5,  2. ],\n",
       "             [15.5,  0. ,  1. ],\n",
       "             [ 4. , -4.5,  4. ],\n",
       "             [ 8.5, -4. ,  5. ],\n",
       "             [12. , -3.5,  6. ],\n",
       "             [15.5, -4. ,  7. ]], dtype=float32),\n",
       "      'height': 1},\n",
       "     'renderback': False,\n",
       "     'state': [1, 1],\n",
       "     'type': 'polygon',\n",
       "     'subtype': 'solid'}]}]}"
      ]
     },
     "execution_count": 3,
     "metadata": {},
     "output_type": "execute_result"
    }
   ],
   "source": [
    "polygons_to_json(polygons)"
   ]
  },
  {
   "cell_type": "code",
   "execution_count": null,
   "id": "d9d58623",
   "metadata": {},
   "outputs": [],
   "source": []
  }
 ],
 "metadata": {
  "kernelspec": {
   "display_name": "gds",
   "language": "python",
   "name": "python3"
  },
  "language_info": {
   "codemirror_mode": {
    "name": "ipython",
    "version": 3
   },
   "file_extension": ".py",
   "mimetype": "text/x-python",
   "name": "python",
   "nbconvert_exporter": "python",
   "pygments_lexer": "ipython3",
   "version": "3.12.10"
  }
 },
 "nbformat": 4,
 "nbformat_minor": 5
}
