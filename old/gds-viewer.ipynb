{
 "cells": [
  {
   "cell_type": "code",
   "execution_count": 2,
   "id": "59bfa5b9-afc8-4240-bf04-5f75139dd65f",
   "metadata": {},
   "outputs": [
    {
     "name": "stdout",
     "output_type": "stream",
     "text": [
      "Overwriting auto display for build123d BuildPart, BuildSketch, BuildLine, ShapeList\n"
     ]
    }
   ],
   "source": [
    "import copy\n",
    "from typing import cast\n",
    "\n",
    "from build123d import Polygon, extrude, Pos, Compound, Box\n",
    "from ocp_tessellate.utils import Color\n",
    "from jupyter_cadquery import show, open_viewer, set_defaults\n",
    "\n",
    "from kfactory import LayerEnum\n",
    "\n",
    "from gdsfactory.component import Component\n",
    "from gdsfactory.technology import DerivedLayer, LayerStack, LayerViews, LogicalLayer\n",
    "from gdsfactory.typings import LayerSpecs\n",
    "\n",
    "import gdsfactory as gf"
   ]
  },
  {
   "cell_type": "code",
   "execution_count": 3,
   "id": "f4f79d02-fb58-4094-ab1a-85df2122eea5",
   "metadata": {},
   "outputs": [],
   "source": [
    "cv = open_viewer(\"GDS\")"
   ]
  },
  {
   "cell_type": "code",
   "execution_count": 4,
   "id": "9726a2f3-25fa-4faa-bf48-408ded5b2342",
   "metadata": {},
   "outputs": [],
   "source": [
    "INSTANCES = {}"
   ]
  },
  {
   "cell_type": "code",
   "execution_count": 30,
   "id": "9c8a0b79-f525-443c-baa9-f4670805c3c4",
   "metadata": {},
   "outputs": [],
   "source": [
    "import numpy as np\n",
    "def to_poly(\n",
    "    component: Component,\n",
    "    layer_views: LayerViews | None = None,\n",
    "    layer_stack: LayerStack | None = None,\n",
    "    exclude_layers: LayerSpecs | None = None,\n",
    "    count_only=False,\n",
    ") -> Compound:\n",
    "    \"\"\"Return build123d Compound.\n",
    "\n",
    "    Args:\n",
    "        component: to extrude in 3D.\n",
    "        layer_views: layer colors from Klayout Layer Properties file.\n",
    "            Defaults to active PDK.layer_views.\n",
    "        layer_stack: contains thickness and zmin for each layer.\n",
    "            Defaults to active PDK.layer_stack.\n",
    "        exclude_layers: list of layer index to exclude.\n",
    "\n",
    "    \"\"\"\n",
    "    from gdsfactory.pdk import (\n",
    "        get_active_pdk,\n",
    "        get_layer,\n",
    "        get_layer_stack,\n",
    "        get_layer_views,\n",
    "    )\n",
    "\n",
    "    try:\n",
    "        from trimesh.creation import extrude_polygon\n",
    "        from trimesh.scene import Scene\n",
    "    except ImportError as e:\n",
    "        print(\"you need to `pip install trimesh`\")\n",
    "        raise e\n",
    "\n",
    "    layer_views = layer_views or get_layer_views()\n",
    "    layer_stack = layer_stack or get_layer_stack()\n",
    "\n",
    "    exclude_layers = exclude_layers or ()\n",
    "    exclude_layers = [get_layer(layer) for layer in exclude_layers]\n",
    "\n",
    "    component_with_booleans = layer_stack.get_component_with_derived_layers(component)\n",
    "    polygons_per_layer = component_with_booleans.get_polygons_points(\n",
    "        merge=True,\n",
    "    )\n",
    "    has_polygons = False\n",
    "\n",
    "    poly_assembly = {\n",
    "        \"label\":\"GDS\",\n",
    "        \"layers\":{}\n",
    "    }\n",
    "    for level in layer_stack.layers.values():\n",
    "        layer = level.layer\n",
    "\n",
    "        if isinstance(layer, LogicalLayer):\n",
    "            assert isinstance(layer.layer, tuple | LayerEnum)\n",
    "            layer_tuple = cast(tuple[int, int], tuple(layer.layer))\n",
    "        elif isinstance(layer, DerivedLayer):\n",
    "            assert level.derived_layer is not None\n",
    "            assert isinstance(level.derived_layer.layer, tuple | LayerEnum)\n",
    "            layer_tuple = cast(tuple[int, int], tuple(level.derived_layer.layer))\n",
    "        else:\n",
    "            raise ValueError(f\"Layer {layer!r} is not a DerivedLayer or LogicalLayer\")\n",
    "\n",
    "        layer_index = int(get_layer(layer_tuple))\n",
    "\n",
    "        if layer_index in exclude_layers:\n",
    "            continue\n",
    "\n",
    "        if layer_index not in polygons_per_layer:\n",
    "            continue\n",
    "\n",
    "        zmin = level.zmin\n",
    "        height = level.thickness\n",
    "        layer_view = layer_views.get_from_tuple(layer_tuple)\n",
    "        poly_assembly[\"layers\"][layer_view.name] = {\n",
    "            \"zmin\": zmin, \n",
    "            \"height\":height, \n",
    "            \"color\": layer_view.fill_color.as_hex(),\n",
    "            \"polygons\":[]\n",
    "        }\n",
    "        assert layer_view.fill_color is not None\n",
    "        if zmin is not None and layer_view.visible:\n",
    "            has_polygons = True\n",
    "            polygons = polygons_per_layer[layer_index]\n",
    "            print(layer_view.name, len(polygons))\n",
    "            for polygon in polygons:\n",
    "                poly_assembly[\"layers\"][layer_view.name][\"polygons\"].append(np.array(polygon))\n",
    "            print()\n",
    "\n",
    "    if not has_polygons:\n",
    "        raise ValueError(\n",
    "            f\"{component.name!r} does not have polygons defined in the \"\n",
    "            f\"layer_stack or layer_views for the active Pdk {get_active_pdk().name!r}\"\n",
    "        )\n",
    "    return poly_assembly"
   ]
  },
  {
   "cell_type": "code",
   "execution_count": 31,
   "id": "daa61547-3e28-4b67-851e-03a1576092fa",
   "metadata": {},
   "outputs": [
    {
     "name": "stdout",
     "output_type": "stream",
     "text": [
      "Waveguide 1\n",
      "\n",
      "SLAB90 1\n",
      "\n",
      "VIAC 128\n",
      "\n",
      "M1 2\n",
      "\n",
      "VIA1 330\n",
      "\n",
      "M2 2\n",
      "\n",
      "VIA2 480\n",
      "\n",
      "M3 2\n",
      "\n"
     ]
    }
   ],
   "source": [
    "from ocp_tessellate.utils import numpy_to_buffer_json\n",
    "c = gf.c.straight_heater_doped_rib(length=100)\n",
    "polys = to_poly(c)\n",
    "\n",
    "numpy_to_buffer_json(polys)"
   ]
  },
  {
   "cell_type": "code",
   "execution_count": 34,
   "id": "8675b55e-bd89-46a1-911e-4980161b4e5b",
   "metadata": {},
   "outputs": [
    {
     "data": {
      "text/plain": [
       "dict_keys(['Waveguide', 'SLAB90', 'VIAC', 'M1', 'VIA1', 'M2', 'VIA2', 'M3'])"
      ]
     },
     "execution_count": 34,
     "metadata": {},
     "output_type": "execute_result"
    }
   ],
   "source": []
  },
  {
   "cell_type": "code",
   "execution_count": 4,
   "id": "f370bc59-f21d-494d-a26b-7fd092ce7bb2",
   "metadata": {},
   "outputs": [],
   "source": [
    "import copy\n",
    "from typing import cast\n",
    "\n",
    "from build123d import Polygon, extrude, Pos, Compound, Box\n",
    "from ocp_tessellate.utils import Color\n",
    "\n",
    "from kfactory import LayerEnum\n",
    "\n",
    "from gdsfactory.component import Component\n",
    "from gdsfactory.technology import DerivedLayer, LayerStack, LayerViews, LogicalLayer\n",
    "from gdsfactory.typings import LayerSpecs\n",
    "\n",
    "INSTANCES = {}\n",
    "\n",
    "\n",
    "def _get_extruded_polygon(polygon, height, zmin, color, decimals=4, optimize=True):\n",
    "    if optimize and len(polygon) == 4:\n",
    "\n",
    "        dx0 = round(polygon[3][0] - polygon[0][0], decimals)\n",
    "        dx1 = round(polygon[2][0] - polygon[1][0], decimals)\n",
    "        dy0 = round(polygon[1][1] - polygon[0][1], decimals)\n",
    "        dy1 = round(polygon[2][1] - polygon[3][1], decimals)\n",
    "        h = round(height, decimals)\n",
    "\n",
    "        # The viewer supports instances, so render a box only once and\n",
    "        # reference the instance moved to the right position\n",
    "\n",
    "        if INSTANCES.get((dx0, dy0, h)) is None:\n",
    "            INSTANCES[(dx0, dx1, h)] = Box(dx0, dy0, h)\n",
    "            reference = INSTANCES[(dx0, dx1, h)]\n",
    "        else:\n",
    "            reference = copy.copy(INSTANCES[(dx0, dx1, h)])\n",
    "\n",
    "        center = (polygon[0][0] + dx0 / 2, polygon[0][1] + dy0 / 2)\n",
    "        obj = Pos(*center, zmin + height / 2) * reference\n",
    "        obj.color = Color(color)\n",
    "        return obj\n",
    "\n",
    "    p = Polygon(*polygon, align=None)\n",
    "    obj = extrude(p, amount=-height)\n",
    "    obj = Pos(0, 0, zmin) * obj\n",
    "    obj.color = Color(color)\n",
    "    return obj\n",
    "\n",
    "\n",
    "def to_b123d(\n",
    "    component: Component,\n",
    "    layer_views: LayerViews | None = None,\n",
    "    layer_stack: LayerStack | None = None,\n",
    "    exclude_layers: LayerSpecs | None = None,\n",
    "    count_only=False,\n",
    ") -> Compound:\n",
    "    \"\"\"Return build123d Compound.\n",
    "\n",
    "    Args:\n",
    "        component: to extrude in 3D.\n",
    "        layer_views: layer colors from Klayout Layer Properties file.\n",
    "            Defaults to active PDK.layer_views.\n",
    "        layer_stack: contains thickness and zmin for each layer.\n",
    "            Defaults to active PDK.layer_stack.\n",
    "        exclude_layers: list of layer index to exclude.\n",
    "\n",
    "    \"\"\"\n",
    "    from gdsfactory.pdk import (\n",
    "        get_active_pdk,\n",
    "        get_layer,\n",
    "        get_layer_stack,\n",
    "        get_layer_views,\n",
    "    )\n",
    "\n",
    "    try:\n",
    "        from trimesh.creation import extrude_polygon\n",
    "        from trimesh.scene import Scene\n",
    "    except ImportError as e:\n",
    "        print(\"you need to `pip install trimesh`\")\n",
    "        raise e\n",
    "\n",
    "    layer_views = layer_views or get_layer_views()\n",
    "    layer_stack = layer_stack or get_layer_stack()\n",
    "\n",
    "    exclude_layers = exclude_layers or ()\n",
    "    exclude_layers = [get_layer(layer) for layer in exclude_layers]\n",
    "\n",
    "    component_with_booleans = layer_stack.get_component_with_derived_layers(component)\n",
    "    polygons_per_layer = component_with_booleans.get_polygons_points(\n",
    "        merge=True,\n",
    "    )\n",
    "    has_polygons = False\n",
    "\n",
    "    sub_assemblies = []\n",
    "    assembly = Compound(label=\"GDS\")\n",
    "    for level in layer_stack.layers.values():\n",
    "        layer = level.layer\n",
    "\n",
    "        if isinstance(layer, LogicalLayer):\n",
    "            assert isinstance(layer.layer, tuple | LayerEnum)\n",
    "            layer_tuple = cast(tuple[int, int], tuple(layer.layer))\n",
    "        elif isinstance(layer, DerivedLayer):\n",
    "            assert level.derived_layer is not None\n",
    "            assert isinstance(level.derived_layer.layer, tuple | LayerEnum)\n",
    "            layer_tuple = cast(tuple[int, int], tuple(level.derived_layer.layer))\n",
    "        else:\n",
    "            raise ValueError(f\"Layer {layer!r} is not a DerivedLayer or LogicalLayer\")\n",
    "\n",
    "        layer_index = int(get_layer(layer_tuple))\n",
    "\n",
    "        if layer_index in exclude_layers:\n",
    "            continue\n",
    "\n",
    "        if layer_index not in polygons_per_layer:\n",
    "            continue\n",
    "\n",
    "        zmin = level.zmin\n",
    "        layer_view = layer_views.get_from_tuple(layer_tuple)\n",
    "        assert layer_view.fill_color is not None\n",
    "        if zmin is not None and layer_view.visible:\n",
    "            has_polygons = True\n",
    "            polygons = polygons_per_layer[layer_index]\n",
    "            height = level.thickness\n",
    "            objects = []\n",
    "            sub_assembly = Compound(label=str(f\"{layer_view.name} ({round(zmin,4)})\"))\n",
    "            print(layer_view.name, len(polygons))\n",
    "            if count_only:\n",
    "                sub_assembly.childern=[]\n",
    "            else:\n",
    "                count = 0\n",
    "                for polygon in polygons:\n",
    "                    count += 1\n",
    "                    if count % 100 == 0:\n",
    "                        print(\".\", end=\"\", flush=True)\n",
    "                    obj = _get_extruded_polygon(\n",
    "                        polygon,\n",
    "                        height,\n",
    "                        zmin,\n",
    "                        layer_view.fill_color.as_rgb_tuple(),\n",
    "                        optimize=True,\n",
    "                    )\n",
    "                    objects.append(obj)\n",
    "                sub_assembly.children = objects\n",
    "                print()\n",
    "        sub_assemblies.append(sub_assembly)\n",
    "    assembly.children = sub_assemblies\n",
    "\n",
    "    if not has_polygons:\n",
    "        raise ValueError(\n",
    "            f\"{component.name!r} does not have polygons defined in the \"\n",
    "            f\"layer_stack or layer_views for the active Pdk {get_active_pdk().name!r}\"\n",
    "        )\n",
    "    return assembly\n"
   ]
  },
  {
   "cell_type": "code",
   "execution_count": 5,
   "id": "fb1e7499-aeda-46ca-87bd-e4beaf72a179",
   "metadata": {},
   "outputs": [],
   "source": [
    "\n"
   ]
  },
  {
   "cell_type": "code",
   "execution_count": 26,
   "id": "2fc4af4c-3e19-4821-8147-e393662446c3",
   "metadata": {},
   "outputs": [
    {
     "ename": "ValueError",
     "evalue": "'straight_heater_doped_r_62b1d634' does not have polygons defined in the layer_stack or layer_views for the active Pdk 'sky130'",
     "output_type": "error",
     "traceback": [
      "\u001b[0;31m---------------------------------------------------------------------------\u001b[0m",
      "\u001b[0;31mValueError\u001b[0m                                Traceback (most recent call last)",
      "Cell \u001b[0;32mIn[26], line 2\u001b[0m\n\u001b[1;32m      1\u001b[0m c \u001b[38;5;241m=\u001b[39m gf\u001b[38;5;241m.\u001b[39mc\u001b[38;5;241m.\u001b[39mstraight_heater_doped_rib(length\u001b[38;5;241m=\u001b[39m\u001b[38;5;241m100\u001b[39m)\n\u001b[0;32m----> 2\u001b[0m compound \u001b[38;5;241m=\u001b[39m \u001b[43mto_b123d\u001b[49m\u001b[43m(\u001b[49m\u001b[43mc\u001b[49m\u001b[43m,\u001b[49m\u001b[43m \u001b[49m\u001b[43mcount_only\u001b[49m\u001b[38;5;241;43m=\u001b[39;49m\u001b[38;5;28;43;01mFalse\u001b[39;49;00m\u001b[43m)\u001b[49m\n\u001b[1;32m      3\u001b[0m show(compound, progress\u001b[38;5;241m=\u001b[39m\u001b[38;5;124m\"\u001b[39m\u001b[38;5;124m\"\u001b[39m)\n",
      "Cell \u001b[0;32mIn[4], line 145\u001b[0m, in \u001b[0;36mto_b123d\u001b[0;34m(component, layer_views, layer_stack, exclude_layers, count_only)\u001b[0m\n\u001b[1;32m    142\u001b[0m assembly\u001b[38;5;241m.\u001b[39mchildren \u001b[38;5;241m=\u001b[39m sub_assemblies\n\u001b[1;32m    144\u001b[0m \u001b[38;5;28;01mif\u001b[39;00m \u001b[38;5;129;01mnot\u001b[39;00m has_polygons:\n\u001b[0;32m--> 145\u001b[0m     \u001b[38;5;28;01mraise\u001b[39;00m \u001b[38;5;167;01mValueError\u001b[39;00m(\n\u001b[1;32m    146\u001b[0m         \u001b[38;5;124mf\u001b[39m\u001b[38;5;124m\"\u001b[39m\u001b[38;5;132;01m{\u001b[39;00mcomponent\u001b[38;5;241m.\u001b[39mname\u001b[38;5;132;01m!r}\u001b[39;00m\u001b[38;5;124m does not have polygons defined in the \u001b[39m\u001b[38;5;124m\"\u001b[39m\n\u001b[1;32m    147\u001b[0m         \u001b[38;5;124mf\u001b[39m\u001b[38;5;124m\"\u001b[39m\u001b[38;5;124mlayer_stack or layer_views for the active Pdk \u001b[39m\u001b[38;5;132;01m{\u001b[39;00mget_active_pdk()\u001b[38;5;241m.\u001b[39mname\u001b[38;5;132;01m!r}\u001b[39;00m\u001b[38;5;124m\"\u001b[39m\n\u001b[1;32m    148\u001b[0m     )\n\u001b[1;32m    149\u001b[0m \u001b[38;5;28;01mreturn\u001b[39;00m assembly\n",
      "\u001b[0;31mValueError\u001b[0m: 'straight_heater_doped_r_62b1d634' does not have polygons defined in the layer_stack or layer_views for the active Pdk 'sky130'"
     ]
    }
   ],
   "source": [
    "c = gf.c.straight_heater_doped_rib(length=100)\n",
    "compound = to_b123d(c, count_only=False)\n",
    "show(compound, progress=\"\")"
   ]
  },
  {
   "cell_type": "code",
   "execution_count": 19,
   "id": "9ebadc4c-01d7-4dcb-9e95-e7a1e00d5463",
   "metadata": {},
   "outputs": [
    {
     "name": "stdout",
     "output_type": "stream",
     "text": [
      "Waveguide 1\n",
      "SLAB90 1\n",
      "VIAC 128\n",
      "M1 2\n",
      "VIA1 990\n",
      "M2 2\n",
      "VIA2 1360\n",
      "M3 2\n",
      "\n"
     ]
    },
    {
     "data": {
      "text/plain": [
       "<cad_viewer_widget.widget.CadViewer at 0x300f25fa0>"
      ]
     },
     "execution_count": 19,
     "metadata": {},
     "output_type": "execute_result"
    }
   ],
   "source": [
    "c = gf.components.straight_heater_doped_rib(\n",
    "    length=320,\n",
    "    nsections=3,\n",
    "    cross_section=\"strip_rib_tip\",\n",
    "    cross_section_heater=\"rib_heater_doped\",\n",
    "    via_stack=\"via_stack_slab_npp_m3\",\n",
    "    via_stack_metal=\"via_stack_m1_mtop\",\n",
    "    via_stack_metal_size=(10, 10),\n",
    "    via_stack_size=(10, 10),\n",
    "    taper=\"taper_cross_section\",\n",
    "    heater_width=2,\n",
    "    heater_gap=0.8,\n",
    "    via_stack_gap=0,\n",
    "    width=0.5,\n",
    "    xoffset_tip1=0.2,\n",
    "    xoffset_tip2=0.4,\n",
    ").copy()\n",
    "compound = to_b123d(c)\n",
    "show(compound, progress=\"\")"
   ]
  },
  {
   "cell_type": "code",
   "execution_count": 21,
   "id": "55f28e60-725a-4abc-acb7-ef52e2af4494",
   "metadata": {},
   "outputs": [
    {
     "name": "stdout",
     "output_type": "stream",
     "text": [
      "Waveguide 1\n",
      "MH 1\n",
      "VIA1 32\n",
      "M2 2\n",
      "VIA2 50\n",
      "M3 2\n",
      "\n"
     ]
    },
    {
     "data": {
      "text/plain": [
       "<cad_viewer_widget.widget.CadViewer at 0x300f25fa0>"
      ]
     },
     "execution_count": 21,
     "metadata": {},
     "output_type": "execute_result"
    }
   ],
   "source": [
    "c = gf.components.straight_heater_metal(length=90)\n",
    "compound = to_b123d(c)\n",
    "show(compound, progress=\"\")"
   ]
  },
  {
   "cell_type": "code",
   "execution_count": 22,
   "id": "545e6d35-895b-4ee3-8828-9cf16e44fbe6",
   "metadata": {},
   "outputs": [
    {
     "name": "stdout",
     "output_type": "stream",
     "text": [
      "Waveguide 1\n",
      "MH 1\n",
      "VIA1 32\n",
      "M2 2\n",
      "VIA2 50\n",
      "M3 2\n",
      "\n"
     ]
    },
    {
     "data": {
      "text/plain": [
       "<cad_viewer_widget.widget.CadViewer at 0x300f25fa0>"
      ]
     },
     "execution_count": 22,
     "metadata": {},
     "output_type": "execute_result"
    }
   ],
   "source": [
    "c = gf.components.straight_heater_meander(\n",
    "    length=300,\n",
    "    spacing=2,\n",
    "    cross_section=\"strip\",\n",
    "    heater_width=2.5,\n",
    "    extension_length=15,\n",
    "    layer_heater=\"HEATER\",\n",
    "    via_stack=\"via_stack_heater_mtop\",\n",
    "    heater_taper_length=10,\n",
    "    taper_length=10,\n",
    "    n=3,\n",
    ").copy()\n",
    "compound = to_b123d(c)\n",
    "show(compound, progress=\"\")"
   ]
  },
  {
   "cell_type": "code",
   "execution_count": 23,
   "id": "8a0d9ed7-d725-45ee-a77b-ffdb31b4ea3d",
   "metadata": {},
   "outputs": [
    {
     "name": "stdout",
     "output_type": "stream",
     "text": [
      "Waveguide 1\n",
      "SLAB90 4\n",
      "VIAC 288\n",
      "M1 8\n",
      "VIA1 192\n",
      "M2 8\n",
      "VIA2 288\n",
      "M3 8\n",
      "\n"
     ]
    },
    {
     "data": {
      "text/plain": [
       "<cad_viewer_widget.widget.CadViewer at 0x300f25fa0>"
      ]
     },
     "execution_count": 23,
     "metadata": {},
     "output_type": "execute_result"
    }
   ],
   "source": [
    "bend180 = gf.components.bend_circular180()\n",
    "wg_pin = gf.components.straight_pin(length=40)\n",
    "wg = gf.components.straight()\n",
    "\n",
    "# Define a map between symbols and (component, input port, output port)\n",
    "symbol_to_component = {\n",
    "    \"A\": (bend180, \"o1\", \"o2\"),\n",
    "    \"B\": (bend180, \"o2\", \"o1\"),\n",
    "    \"H\": (wg_pin, \"o1\", \"o2\"),\n",
    "    \"-\": (wg, \"o1\", \"o2\"),\n",
    "}\n",
    "\n",
    "# Each character in the sequence represents a component\n",
    "s = \"AB-H-H-H-H-BA\"\n",
    "c = gf.components.component_sequence(\n",
    "    sequence=s, symbol_to_component=symbol_to_component\n",
    ")\n",
    "compound = to_b123d(c)\n",
    "show(compound, progress=\"\")"
   ]
  },
  {
   "cell_type": "code",
   "execution_count": 24,
   "id": "008dcf16-6226-4d06-99de-2ac797ff9e48",
   "metadata": {},
   "outputs": [
    {
     "name": "stdout",
     "output_type": "stream",
     "text": [
      "Waveguide 2\n",
      "\n"
     ]
    },
    {
     "data": {
      "text/plain": [
       "<cad_viewer_widget.widget.CadViewer at 0x300f25fa0>"
      ]
     },
     "execution_count": 24,
     "metadata": {},
     "output_type": "execute_result"
    }
   ],
   "source": [
    "c = gf.components.coupler_full(\n",
    "    coupling_length=40, dx=10, dy=4.8, gap=0.5, dw=0.1, cross_section=\"strip\"\n",
    ").copy()\n",
    "compound = to_b123d(c)\n",
    "show(compound, progress=\"\")"
   ]
  },
  {
   "cell_type": "code",
   "execution_count": 26,
   "id": "49993d62-5e29-4a6b-9172-c0c9e4747b74",
   "metadata": {},
   "outputs": [
    {
     "name": "stdout",
     "output_type": "stream",
     "text": [
      "Waveguide 1\n",
      "SLAB90 2\n",
      "GE 1\n",
      "VIAC 152\n",
      "M1 2\n",
      "VIA1 108\n",
      "M2 2\n",
      "VIA2 152\n",
      "M3 2\n",
      "\n"
     ]
    },
    {
     "data": {
      "text/plain": [
       "<cad_viewer_widget.widget.CadViewer at 0x300f25fa0>"
      ]
     },
     "execution_count": 26,
     "metadata": {},
     "output_type": "execute_result"
    }
   ],
   "source": [
    "c = gf.components.ge_detector_straight_si_contacts(\n",
    "    length=40,\n",
    "    cross_section=\"pn_ge_detector_si_contacts\",\n",
    "    via_stack=\"via_stack_slab_m3\",\n",
    "    via_stack_width=10,\n",
    "    via_stack_spacing=5,\n",
    "    via_stack_offset=0,\n",
    "    taper_length=20,\n",
    "    taper_width=0.8,\n",
    "    taper_cros_section=\"strip\",\n",
    ").copy()\n",
    "compound = to_b123d(c)\n",
    "show(compound, progress=\"\")"
   ]
  },
  {
   "cell_type": "code",
   "execution_count": 27,
   "id": "4731ca13-e9d5-4ce7-8f81-d461e3a77a31",
   "metadata": {},
   "outputs": [
    {
     "name": "stdout",
     "output_type": "stream",
     "text": [
      "Waveguide 1\n",
      "\n"
     ]
    },
    {
     "data": {
      "text/plain": [
       "<cad_viewer_widget.widget.CadViewer at 0x300f25fa0>"
      ]
     },
     "execution_count": 27,
     "metadata": {},
     "output_type": "execute_result"
    }
   ],
   "source": [
    "# BROKEN\n",
    "c = gf.components.awg(\n",
    "    arms=10, outputs=3, fpr_spacing=50, arm_spacing=1, cross_section=\"strip\"\n",
    ").copy()\n",
    "compound = to_b123d(c)\n",
    "show(compound, progress=\"\")"
   ]
  },
  {
   "cell_type": "code",
   "execution_count": 31,
   "id": "77259224-f8bb-41ef-817a-fc5c0240c2d6",
   "metadata": {},
   "outputs": [
    {
     "name": "stdout",
     "output_type": "stream",
     "text": [
      "Waveguide 1\n",
      "\n"
     ]
    },
    {
     "data": {
      "text/plain": [
       "<cad_viewer_widget.widget.CadViewer at 0x300f25fa0>"
      ]
     },
     "execution_count": 31,
     "metadata": {},
     "output_type": "execute_result"
    }
   ],
   "source": [
    "c = gf.components.dbr(\n",
    "    w1=0.45,\n",
    "    w2=0.55,\n",
    "    l1=0.159,\n",
    "    l2=0.159,\n",
    "    n=10,\n",
    "    cross_section=\"strip\",\n",
    "    straight_length=0.01,\n",
    ").copy()\n",
    "c.draw_ports()\n",
    "compound = to_b123d(c)\n",
    "show(compound, progress=\"\")"
   ]
  },
  {
   "cell_type": "code",
   "execution_count": 32,
   "id": "bfc8f75a-4abb-494a-ba72-d0bace53cdce",
   "metadata": {},
   "outputs": [
    {
     "name": "stdout",
     "output_type": "stream",
     "text": [
      "Waveguide 1\n",
      "\n"
     ]
    },
    {
     "data": {
      "text/plain": [
       "<cad_viewer_widget.widget.CadViewer at 0x300f25fa0>"
      ]
     },
     "execution_count": 32,
     "metadata": {},
     "output_type": "execute_result"
    }
   ],
   "source": [
    "c = gf.components.dbr_tapered(\n",
    "    length=10,\n",
    "    period=0.85,\n",
    "    dc=0.5,\n",
    "    w1=0.4,\n",
    "    w2=1,\n",
    "    taper_length=20,\n",
    "    fins=False,\n",
    "    fin_size=(0.2, 0.05),\n",
    "    cross_section=\"strip\",\n",
    ").copy()\n",
    "c.draw_ports()\n",
    "compound = to_b123d(c)\n",
    "show(compound, progress=\"\")"
   ]
  },
  {
   "cell_type": "code",
   "execution_count": 8,
   "id": "7b12095d-ad5c-4ce1-81c8-651b07c37235",
   "metadata": {},
   "outputs": [],
   "source": [
    "from sky130 import LAYER_STACK as layer_stack_sky130"
   ]
  },
  {
   "cell_type": "code",
   "execution_count": 9,
   "id": "15473192-52a5-44ab-80c6-2d6e04e9413b",
   "metadata": {},
   "outputs": [],
   "source": [
    "c = gf.read.import_gds(\"example_sky130.gds\")"
   ]
  },
  {
   "cell_type": "code",
   "execution_count": 10,
   "id": "350de520-f80f-430d-a5f0-3fe2e7c5dd52",
   "metadata": {},
   "outputs": [
    {
     "name": "stdout",
     "output_type": "stream",
     "text": [
      "polydrawing_m 3626\n",
      "....................................\n",
      "nwelldrawing_m 22\n",
      "\n",
      "nsdmdrawing_m 202\n",
      "..\n",
      "hvtpdrawing_m 22\n",
      "\n",
      "licon1drawing_m 25348\n",
      ".............................................................................................................................................................................................................................................................\n",
      "li1drawing_m 2686\n",
      "..........................\n",
      "mcondrawing_m 13153\n",
      "...................................................................................................................................\n",
      "met1 1381\n",
      ".............\n",
      "viadrawing_m 1695\n",
      "................\n",
      "met2drawing_m 647\n",
      "......\n",
      "via2drawing_m 458\n",
      "....\n",
      "met3drawing_m 126\n",
      ".\n",
      "via3drawing_m 440\n",
      "....\n",
      "met4drawing_m 5\n",
      "\n",
      "via4drawing_m 13\n",
      "\n",
      "met5drawing_m 5\n",
      "\n"
     ]
    }
   ],
   "source": [
    "s = to_b123d(c, layer_stack=layer_stack_sky130, count_only=False)"
   ]
  },
  {
   "cell_type": "code",
   "execution_count": 12,
   "id": "ae8678ef-3a94-4e41-99d2-6c3b65cd812c",
   "metadata": {},
   "outputs": [
    {
     "name": "stdout",
     "output_type": "stream",
     "text": [
      "\n"
     ]
    },
    {
     "data": {
      "text/plain": [
       "<cad_viewer_widget.widget.CadViewer at 0x148117fb0>"
      ]
     },
     "execution_count": 12,
     "metadata": {},
     "output_type": "execute_result"
    }
   ],
   "source": [
    "show(s.children[0], progress=\"\")"
   ]
  },
  {
   "cell_type": "code",
   "execution_count": 28,
   "id": "4b2b1aa9-b6a5-4d63-8774-b2b6f3181f96",
   "metadata": {},
   "outputs": [
    {
     "name": "stdout",
     "output_type": "stream",
     "text": [
      "polydrawing_m 3626\n",
      "nwelldrawing_m 22\n",
      "nsdmdrawing_m 202\n",
      "hvtpdrawing_m 22\n",
      "licon1drawing_m 25348\n",
      "li1drawing_m 2686\n",
      "mcondrawing_m 13153\n",
      "met1 1381\n",
      "viadrawing_m 1695\n",
      "met2drawing_m 647\n",
      "via2drawing_m 458\n",
      "met3drawing_m 126\n",
      "via3drawing_m 440\n",
      "met4drawing_m 5\n",
      "via4drawing_m 13\n",
      "met5drawing_m 5\n",
      "\n"
     ]
    }
   ],
   "source": [
    "to_b123d(c, layer_stack=layer_stack_sky130, count_only=True)"
   ]
  },
  {
   "cell_type": "code",
   "execution_count": null,
   "id": "0ad1dd8f-2c93-486a-8ee5-5afc8ab8cf5d",
   "metadata": {},
   "outputs": [],
   "source": []
  }
 ],
 "metadata": {
  "kernelspec": {
   "display_name": "Python 3 (ipykernel)",
   "language": "python",
   "name": "python3"
  },
  "language_info": {
   "codemirror_mode": {
    "name": "ipython",
    "version": 3
   },
   "file_extension": ".py",
   "mimetype": "text/x-python",
   "name": "python",
   "nbconvert_exporter": "python",
   "pygments_lexer": "ipython3",
   "version": "3.12.10"
  }
 },
 "nbformat": 4,
 "nbformat_minor": 5
}
